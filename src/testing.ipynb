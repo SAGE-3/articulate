{
 "cells": [
  {
   "cell_type": "code",
   "execution_count": 1,
   "metadata": {},
   "outputs": [],
   "source": [
    "import json"
   ]
  },
  {
   "cell_type": "code",
   "execution_count": 2,
   "metadata": {},
   "outputs": [],
   "source": [
    "with open(\"./datasets/stationVariables/0501.json\") as f:\n",
    "  data = json.load(f)"
   ]
  },
  {
   "cell_type": "code",
   "execution_count": 4,
   "metadata": {},
   "outputs": [
    {
     "name": "stdout",
     "output_type": "stream",
     "text": [
      "BV_dis_Avg\n",
      "SWup_Avg\n",
      "SWdn_Avg\n",
      "LWup_Avg\n",
      "LWdn_Avg\n",
      "NR01 sensor body temperature\n",
      "Air temperature, sensor 1\n",
      "Relative humidity, sensor 1\n",
      "Air temperature, sensor 2\n",
      "Relative humidity, sensor 2\n",
      "WindSpeed\n",
      "WindSpeed_rs\n",
      "WindDir\n",
      "WindDir_sd\n",
      "WindDir_uv\n",
      "Tsoil_Avg\n",
      "SoilHeatFlux_Avg(1)\n",
      "SoilHeatFlux_Avg(2)\n",
      "SoilMoisture_Avg(1)\n",
      "SoilMoisture_Avg(2)\n",
      "SoilMoisture_Avg(3)\n",
      "SM_us_Avg(1)\n",
      "SM_us_Avg(2)\n",
      "SM_us_Avg(3)\n",
      "SoilMoisture_T_Avg\n",
      "Rainfall_Tot\n",
      "Minutely rainfall\n",
      "Logger panel temperature\n",
      "Enclosure relative humidity\n",
      "NR01 heater duty cycle\n",
      "Minimum NR01 heater duty cycle\n",
      "Maximum NR01 heater duty cycle\n",
      "Logger lithium battery voltage\n",
      "Battery voltage\n",
      "Minimum battery voltage\n",
      "Maximum battery voltage\n",
      "Number of scans\n",
      "Incoming shortwave radiation\n",
      "Outgoing shortwave radiation\n",
      "Incoming longwave radiation\n",
      "Outgoing longwave radiation\n",
      "Net shortwave radiation\n",
      "Net longwave radiation\n",
      "Net incoming radiation\n",
      "Net outgoing radiation\n",
      "Net radiation\n",
      "Albedo\n",
      "Surface temperature\n",
      "Sky temperature\n",
      "Vapor pressure, sensor 1\n",
      "Vapor pressure, sensor 2\n",
      "Saturation vapor pressure, sensor 1\n",
      "Saturation vapor pressure, sensor 2\n",
      "Vapor pressure deficit, sensor 1\n",
      "Vapor pressure deficit, sensor 2\n",
      "Mean wind speed\n",
      "Resultant vector wind speed\n",
      "Wind direction standard deviation\n",
      "Unit vector average wind direction\n",
      "Wind direction standard deviation, wind speed weighted\n",
      "Resultant vector wind direction\n",
      "Pressure\n",
      "Sea level pressure\n",
      "Tsoil_TCAV_Avg\n",
      "SHF_1_8cm_Avg\n",
      "SHF_2_8cm_Avg\n",
      "Surface soil heat flux\n",
      "SM_1_H4cm_Avg\n",
      "SM_2_V15cm_Avg\n",
      "SM_3_V45cm_Avg\n",
      "Rainfall\n",
      "Minimum air temperature, sensor 1\n",
      "Maximum air temperature, sensor 1\n",
      "Minimum air temperature, sensor 2\n",
      "Maximum air temperature, sensor 2\n",
      "Minimum relative humidity, sensor 1\n",
      "Maximum relative humidity, sensor 1\n",
      "Minimum relative humidity, sensor 1\n",
      "Maximum relative humidity, sensor 1\n",
      "Minimum soil temperature\n",
      "Maximum soil temperature\n",
      "Maximum wind speed\n",
      "Maximum wind gust\n",
      "Thermocouple temperature\n",
      "Soil temperature, sensor 1\n",
      "Soil heat flux, sensor 1\n",
      "Soil heat flux, sensor 2\n",
      "Soil moisture, sensor 1\n",
      "Soil moisture, sensor 2\n",
      "Soil moisture, sensor 3\n",
      "Soil temperature, sensor 2\n",
      "Soil temperature, sensor 3\n",
      "Soil temperature, sensor 4\n",
      "Maximum rain intensity\n",
      "5-minute cellular data usage\n",
      "Cellular signal strength\n",
      "Cellular signal quality\n",
      "Rain gauge tip\n"
     ]
    }
   ],
   "source": [
    "for var in data:\n",
    "  print(var['var_name'])"
   ]
  },
  {
   "cell_type": "code",
   "execution_count": 9,
   "metadata": {},
   "outputs": [
    {
     "name": "stdout",
     "output_type": "stream",
     "text": [
      "CSV file 'common_vars.csv' created successfully with the common var_name and var_id headers.\n"
     ]
    }
   ],
   "source": [
    "import json\n",
    "import csv\n",
    "from collections import defaultdict\n",
    "\n",
    "# List of JSON files\n",
    "json_files = [\"./datasets/stationVariables/0501.json\", \"./datasets/stationVariables/0502.json\", \"./datasets/stationVariables/0506.json\", \"./datasets/stationVariables/0521.json\", \"./datasets/stationVariables/0541.json\"]\n",
    "\n",
    "# Function to read JSON data from a file\n",
    "def read_json(file_path):\n",
    "    with open(file_path, 'r') as f:\n",
    "        return json.load(f)\n",
    "\n",
    "# Function to get var_name and var_id from a list of dictionaries\n",
    "def get_var_names_ids(data):\n",
    "    return {(item['var_name'], item['var_id']) for item in data}\n",
    "\n",
    "# Initialize a list to hold the sets of var_name and var_id from each file\n",
    "var_sets = []\n",
    "\n",
    "# Read each JSON file and extract var_name and var_id\n",
    "for file in json_files:\n",
    "    data = read_json(file)\n",
    "    var_sets.append(get_var_names_ids(data))\n",
    "\n",
    "# Find the common var_name and var_id across all sets\n",
    "common_vars = set.intersection(*var_sets)\n",
    "\n",
    "# Extract the var_names and var_ids into separate lists for CSV headers\n",
    "common_var_names = [var_name for var_name, _ in common_vars]\n",
    "common_var_ids = [var_id for _, var_id in common_vars]\n",
    "\n",
    "# Prepare the header for the CSV file\n",
    "headers = common_var_names \n",
    "\n",
    "# Initialize the first row with zeros\n",
    "initial_row = [0] * len(headers)\n",
    "\n",
    "# Create and write to the CSV file\n",
    "with open('common_vars.csv', 'w', newline='') as csvfile:\n",
    "    csvwriter = csv.writer(csvfile)\n",
    "    # Write the headers\n",
    "    csvwriter.writerow(headers)\n",
    "    # Write the initial row\n",
    "    csvwriter.writerow(initial_row)\n",
    "\n",
    "print(\"CSV file 'common_vars.csv' created successfully with the common var_name and var_id headers.\")\n"
   ]
  },
  {
   "cell_type": "code",
   "execution_count": 12,
   "metadata": {},
   "outputs": [
    {
     "name": "stdout",
     "output_type": "stream",
     "text": [
      "csv write compelte\n"
     ]
    }
   ],
   "source": [
    "# headers = ['Net longwave radiation', 'Sea level pressure', 'Pressure', 'Relative humidity, sensor 1', 'Net shortwave radiation', 'Incoming shortwave radiation', 'Air temperature, sensor 2', 'Surface temperature', 'Sky temperature', 'Air temperature, sensor 1', 'Net radiation', 'Soil moisture, sensor 1', 'Net incoming radiation', 'Mean wind speed', 'Outgoing longwave radiation', 'Outgoing shortwave radiation', 'Rainfall']\n",
    "headers = ['LWnet_1_Avg','Psl_1','P_1','RH_1_Avg','SWnet_1_Avg','SWin_1_Avg','Tair_1_Avg','Tair_2_Avg','LWin_1_Avg','Tsrf_1_Avg','Tsky_1_Avg','Rnet_1_Avg','SM_1_Avg','Rin_1_Avg','SWout_1_Avg','LWout_1_Avg','RF_1_Tot']\n",
    "initial_row = [0] * len(headers)\n",
    "with open('common_vars.csv', 'w', newline='') as csvfile:\n",
    "  csvwriter = csv.writer(csvfile)\n",
    "  csvwriter.writerow(headers)\n",
    "  csvwriter.writerow(initial_row)\n",
    "  \n",
    "print(\"csv write compelte\")"
   ]
  }
 ],
 "metadata": {
  "kernelspec": {
   "display_name": "Python 3",
   "language": "python",
   "name": "python3"
  },
  "language_info": {
   "codemirror_mode": {
    "name": "ipython",
    "version": 3
   },
   "file_extension": ".py",
   "mimetype": "text/x-python",
   "name": "python",
   "nbconvert_exporter": "python",
   "pygments_lexer": "ipython3",
   "version": "3.10.13"
  }
 },
 "nbformat": 4,
 "nbformat_minor": 2
}
